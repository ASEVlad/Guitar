{
 "cells": [
  {
   "cell_type": "code",
   "execution_count": 1,
   "id": "a60b8bf8",
   "metadata": {},
   "outputs": [],
   "source": [
    "class ChromaticScale:\n",
    "    notes = ('A', 'A#', 'B', 'C', 'C#', 'D', \n",
    "             'D#', 'E', 'F', 'F#', 'G', 'G#')\n",
    "    \n",
    "    def __init__(self, root_note: str):\n",
    "        self.root_note = root_note\n",
    "    \n",
    "    @property\n",
    "    def scale(self) -> dict[str, int]:\n",
    "        \"\"\"Generate a scale for a specific key.\"\"\"\n",
    "               \n",
    "        starting_idx = list(self.notes).index(self.root_note)\n",
    "        notes: list[str] = []\n",
    "\n",
    "        for idx in range(len(self.notes)):\n",
    "            new_index = (starting_idx + idx) % len(self.notes)\n",
    "            notes.append(self.notes[new_index])\n",
    "\n",
    "        return dict(zip(notes, list(range(len(notes)))))"
   ]
  },
  {
   "cell_type": "code",
   "execution_count": null,
   "id": "3517ebd3",
   "metadata": {},
   "outputs": [],
   "source": []
  }
 ],
 "metadata": {
  "kernelspec": {
   "display_name": "Python 3",
   "language": "python",
   "name": "python3"
  },
  "language_info": {
   "codemirror_mode": {
    "name": "ipython",
    "version": 3
   },
   "file_extension": ".py",
   "mimetype": "text/x-python",
   "name": "python",
   "nbconvert_exporter": "python",
   "pygments_lexer": "ipython3",
   "version": "3.9.13"
  }
 },
 "nbformat": 4,
 "nbformat_minor": 5
}
