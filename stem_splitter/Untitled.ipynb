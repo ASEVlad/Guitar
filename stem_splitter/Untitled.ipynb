{
 "cells": [
  {
   "cell_type": "code",
   "execution_count": 1,
   "id": "1d6f60b0",
   "metadata": {},
   "outputs": [
    {
     "name": "stderr",
     "output_type": "stream",
     "text": [
      "2023-01-11 16:31:58.007722: I tensorflow/core/platform/cpu_feature_guard.cc:193] This TensorFlow binary is optimized with oneAPI Deep Neural Network Library (oneDNN) to use the following CPU instructions in performance-critical operations:  AVX2 FMA\n",
      "To enable them in other operations, rebuild TensorFlow with the appropriate compiler flags.\n",
      "2023-01-11 16:31:58.142731: W tensorflow/stream_executor/platform/default/dso_loader.cc:64] Could not load dynamic library 'libcudart.so.11.0'; dlerror: libcudart.so.11.0: cannot open shared object file: No such file or directory\n",
      "2023-01-11 16:31:58.142746: I tensorflow/stream_executor/cuda/cudart_stub.cc:29] Ignore above cudart dlerror if you do not have a GPU set up on your machine.\n",
      "2023-01-11 16:31:58.167512: E tensorflow/stream_executor/cuda/cuda_blas.cc:2981] Unable to register cuBLAS factory: Attempting to register factory for plugin cuBLAS when one has already been registered\n",
      "2023-01-11 16:31:58.623854: W tensorflow/stream_executor/platform/default/dso_loader.cc:64] Could not load dynamic library 'libnvinfer.so.7'; dlerror: libnvinfer.so.7: cannot open shared object file: No such file or directory\n",
      "2023-01-11 16:31:58.623919: W tensorflow/stream_executor/platform/default/dso_loader.cc:64] Could not load dynamic library 'libnvinfer_plugin.so.7'; dlerror: libnvinfer_plugin.so.7: cannot open shared object file: No such file or directory\n",
      "2023-01-11 16:31:58.623926: W tensorflow/compiler/tf2tensorrt/utils/py_utils.cc:38] TF-TRT Warning: Cannot dlopen some TensorRT libraries. If you would like to use Nvidia GPU with TensorRT, please make sure the missing libraries mentioned above are installed properly.\n"
     ]
    }
   ],
   "source": [
    "import spleeter\n",
    "from spleeter.separator import Separator\n",
    "\n",
    "from IPython.display import Audio, display\n",
    "from IPython.display import HTML\n",
    "\n",
    "import IPython.display as ipd\n",
    "import sys"
   ]
  },
  {
   "cell_type": "code",
   "execution_count": 2,
   "id": "6f8b4beb",
   "metadata": {},
   "outputs": [],
   "source": [
    "# /home/asevlad/Desktop/beat1.mp3"
   ]
  },
  {
   "cell_type": "code",
   "execution_count": 3,
   "id": "f06bde53",
   "metadata": {},
   "outputs": [],
   "source": [
    "from spleeter.audio.adapter import AudioAdapter\n",
    "\n",
    "audio_loader = AudioAdapter.default()\n",
    "sample_rate = 44100\n",
    "waveform, _ = audio_loader.load('/home/asevlad/Desktop/beat1.mp3', sample_rate=sample_rate)"
   ]
  },
  {
   "cell_type": "code",
   "execution_count": 4,
   "id": "ebaf0a02",
   "metadata": {},
   "outputs": [
    {
     "data": {
      "text/plain": [
       "44100"
      ]
     },
     "execution_count": 4,
     "metadata": {},
     "output_type": "execute_result"
    }
   ],
   "source": [
    "sample_rate"
   ]
  },
  {
   "cell_type": "code",
   "execution_count": 5,
   "id": "2925d041",
   "metadata": {},
   "outputs": [
    {
     "data": {
      "text/plain": [
       "array([[ 0.22342914, -0.03091396],\n",
       "       [ 0.30085635, -0.03008395],\n",
       "       [ 0.29583204, -0.00588541],\n",
       "       ...,\n",
       "       [ 0.0279071 ,  0.04553598],\n",
       "       [ 0.05422937,  0.05952528],\n",
       "       [ 0.05645353,  0.04698637]], dtype=float32)"
      ]
     },
     "execution_count": 5,
     "metadata": {},
     "output_type": "execute_result"
    }
   ],
   "source": [
    "waveform"
   ]
  },
  {
   "cell_type": "code",
   "execution_count": 6,
   "id": "e55e43a3",
   "metadata": {},
   "outputs": [
    {
     "name": "stderr",
     "output_type": "stream",
     "text": [
      "2023-01-11 16:32:08.356072: E tensorflow/stream_executor/cuda/cuda_driver.cc:265] failed call to cuInit: CUDA_ERROR_UNKNOWN: unknown error\n",
      "2023-01-11 16:32:08.356104: I tensorflow/stream_executor/cuda/cuda_diagnostics.cc:169] retrieving CUDA diagnostic information for host: asevlad\n",
      "2023-01-11 16:32:08.356112: I tensorflow/stream_executor/cuda/cuda_diagnostics.cc:176] hostname: asevlad\n",
      "2023-01-11 16:32:08.356217: I tensorflow/stream_executor/cuda/cuda_diagnostics.cc:200] libcuda reported version is: 515.86.1\n",
      "2023-01-11 16:32:08.356235: I tensorflow/stream_executor/cuda/cuda_diagnostics.cc:204] kernel reported version is: 515.86.1\n",
      "2023-01-11 16:32:08.356239: I tensorflow/stream_executor/cuda/cuda_diagnostics.cc:310] kernel version seems to match DSO: 515.86.1\n"
     ]
    }
   ],
   "source": [
    "separator = Separator('spleeter:2stems')"
   ]
  },
  {
   "cell_type": "code",
   "execution_count": 7,
   "id": "44e20a5a",
   "metadata": {},
   "outputs": [
    {
     "name": "stdout",
     "output_type": "stream",
     "text": [
      "INFO:tensorflow:Apply unet for vocals_spectrogram\n",
      "WARNING:tensorflow:From /home/asevlad/.local/lib/python3.9/site-packages/keras/layers/normalization/batch_normalization.py:562: _colocate_with (from tensorflow.python.framework.ops) is deprecated and will be removed in a future version.\n",
      "Instructions for updating:\n",
      "Colocations handled automatically by placer.\n",
      "INFO:tensorflow:Apply unet for accompaniment_spectrogram\n",
      "INFO:tensorflow:Restoring parameters from pretrained_models/2stems/model\n"
     ]
    },
    {
     "name": "stderr",
     "output_type": "stream",
     "text": [
      "2023-01-11 16:32:14.044804: I tensorflow/core/platform/cpu_feature_guard.cc:193] This TensorFlow binary is optimized with oneAPI Deep Neural Network Library (oneDNN) to use the following CPU instructions in performance-critical operations:  AVX2 FMA\n",
      "To enable them in other operations, rebuild TensorFlow with the appropriate compiler flags.\n",
      "2023-01-11 16:32:14.069041: I tensorflow/compiler/mlir/mlir_graph_optimization_pass.cc:354] MLIR V1 optimization pass is not enabled\n"
     ]
    }
   ],
   "source": [
    "prediction = separator.separate(waveform)"
   ]
  },
  {
   "cell_type": "code",
   "execution_count": 8,
   "id": "e474210c",
   "metadata": {},
   "outputs": [
    {
     "data": {
      "text/plain": [
       "{'vocals': array([[0.00196348, 0.00019126],\n",
       "        [0.00219043, 0.00063769],\n",
       "        [0.00228374, 0.00112968],\n",
       "        ...,\n",
       "        [0.01508614, 0.0285737 ],\n",
       "        [0.02059591, 0.02995587],\n",
       "        [0.01662929, 0.0123083 ]], dtype=float32),\n",
       " 'accompaniment': array([[ 0.18396121, -0.02615784],\n",
       "        [ 0.29235643, -0.02883226],\n",
       "        [ 0.3225312 , -0.01057858],\n",
       "        ...,\n",
       "        [ 0.01849793,  0.01528519],\n",
       "        [ 0.03356651,  0.02954656],\n",
       "        [ 0.02760351,  0.03008069]], dtype=float32)}"
      ]
     },
     "execution_count": 8,
     "metadata": {},
     "output_type": "execute_result"
    }
   ],
   "source": [
    "prediction"
   ]
  },
  {
   "cell_type": "code",
   "execution_count": 9,
   "id": "5390a340",
   "metadata": {},
   "outputs": [
    {
     "name": "stdout",
     "output_type": "stream",
     "text": [
      "[]\n"
     ]
    }
   ],
   "source": [
    "import tensorflow as tf; print(tf.config.list_physical_devices('GPU'))"
   ]
  },
  {
   "cell_type": "code",
   "execution_count": null,
   "id": "dda27c05",
   "metadata": {},
   "outputs": [],
   "source": []
  }
 ],
 "metadata": {
  "kernelspec": {
   "display_name": "Python 3 (ipykernel)",
   "language": "python",
   "name": "python3"
  },
  "language_info": {
   "codemirror_mode": {
    "name": "ipython",
    "version": 3
   },
   "file_extension": ".py",
   "mimetype": "text/x-python",
   "name": "python",
   "nbconvert_exporter": "python",
   "pygments_lexer": "ipython3",
   "version": "3.9.7"
  }
 },
 "nbformat": 4,
 "nbformat_minor": 5
}
